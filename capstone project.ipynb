{
 "cells": [
  {
   "cell_type": "markdown",
   "id": "b1d910e9",
   "metadata": {},
   "source": [
    "## CAPSTONE PROJECT"
   ]
  },
  {
   "cell_type": "markdown",
   "id": "7089ddcf",
   "metadata": {},
   "source": [
    "#### Using Deep Learning to Classify and Analyse Musical Instruments Based on Spectrograms and Audio Features"
   ]
  },
  {
   "cell_type": "code",
   "execution_count": 1,
   "id": "0249d54c",
   "metadata": {},
   "outputs": [
    {
     "name": "stderr",
     "output_type": "stream",
     "text": [
      "C:\\Users\\user\\anaconda3\\lib\\site-packages\\lazy_loader\\__init__.py:185: RuntimeWarning: subpackages can technically be lazily loaded, but it causes the package to be eagerly loaded even if it is already lazily loaded.So, you probably shouldn't use subpackages with this lazy feature.\n",
      "  warnings.warn(msg, RuntimeWarning)\n",
      "C:\\Users\\user\\anaconda3\\lib\\site-packages\\lazy_loader\\__init__.py:185: RuntimeWarning: subpackages can technically be lazily loaded, but it causes the package to be eagerly loaded even if it is already lazily loaded.So, you probably shouldn't use subpackages with this lazy feature.\n",
      "  warnings.warn(msg, RuntimeWarning)\n"
     ]
    }
   ],
   "source": [
    "# Importing libraries\n",
    "import os\n",
    "import librosa\n",
    "import librosa.display\n",
    "import matplotlib.pyplot as plt\n",
    "import glob"
   ]
  },
  {
   "cell_type": "code",
   "execution_count": 2,
   "id": "43d95e49",
   "metadata": {},
   "outputs": [],
   "source": [
    "folder_path = 'C:\\\\Users\\\\user\\\\Desktop\\\\capstone\\\\irmasdataset'"
   ]
  },
  {
   "cell_type": "markdown",
   "id": "d7ee5c1d",
   "metadata": {},
   "source": [
    "###### Renaming subfolders and showing number of audio files in each subfolder"
   ]
  },
  {
   "cell_type": "code",
   "execution_count": 3,
   "id": "e8bb36fd",
   "metadata": {},
   "outputs": [
    {
     "name": "stdout",
     "output_type": "stream",
     "text": [
      "cello 388\n",
      "clarinet 505\n",
      "flute 451\n",
      "guitar_acoustic 637\n",
      "guitar_electric 760\n",
      "organ 682\n",
      "piano 721\n",
      "saxophone 626\n",
      "trumpet 577\n",
      "violin 580\n",
      "vocals 778\n"
     ]
    }
   ],
   "source": [
    "\n",
    "# Define the mapping of old names to new names\n",
    "name_mapping = {\n",
    "    \"cel\": \"cello\",\n",
    "    \"cla\": \"clarinet\",\n",
    "    \"flu\": \"flute\",\n",
    "    \"gac\": \"guitar_acoustic\",\n",
    "    \"gel\": \"guitar_electric\",\n",
    "    \"org\": \"organ\",\n",
    "    \"pia\": \"piano\",\n",
    "    \"sax\": \"saxophone\",\n",
    "    \"tru\": \"trumpet\",\n",
    "    \"vio\": \"violin\",\n",
    "    \"voi\": \"vocals\"\n",
    "}\n",
    "\n",
    "# Get a list of all subfolders in the dataset root directory\n",
    "subfolders = [f.name for f in os.scandir(folder_path) if f.is_dir()]\n",
    "\n",
    "# Rename the subfolders according to the name_mapping dictionary and show the number of audio files\n",
    "for subfolder in subfolders:\n",
    "    if subfolder in name_mapping:\n",
    "        # New name for the subfolder\n",
    "        new_name = name_mapping[subfolder]\n",
    "\n",
    "        # Get the path of the current subfolder\n",
    "        subfolder_path = os.path.join(folder_path, subfolder)\n",
    "\n",
    "        # Get the path of the new subfolder name\n",
    "        new_subfolder_path = os.path.join(folder_path, new_name)\n",
    "\n",
    "        # Rename the subfolder\n",
    "        os.rename(subfolder_path, new_subfolder_path)\n",
    "\n",
    "# Get a list of all subfolders (new names) in the dataset root directory\n",
    "subfolders = [f.name for f in os.scandir(folder_path) if f.is_dir()]\n",
    "\n",
    "# Count the number of audio files in each subfolder and display the results\n",
    "for subfolder in subfolders:\n",
    "    subfolder_path = os.path.join(folder_path, subfolder)\n",
    "    # Get a list of audio files in the subfolder (assuming they have a certain file extension, e.g., .wav)\n",
    "    audio_files = glob.glob(os.path.join(subfolder_path, '*.wav'))\n",
    "    # Print the new name of the subfolder and the number of audio files in it\n",
    "    print(f\"{subfolder} {len(audio_files)}\")\n",
    "\n",
    "\n"
   ]
  },
  {
   "cell_type": "markdown",
   "id": "65084383",
   "metadata": {},
   "source": [
    "### Using the system default audio player to play a random audio from any of the subfolders"
   ]
  },
  {
   "cell_type": "code",
   "execution_count": 4,
   "id": "3f2ef699",
   "metadata": {},
   "outputs": [
    {
     "name": "stdout",
     "output_type": "stream",
     "text": [
      "        Instrument  Num_Audio_Files\n",
      "0            flute              451\n",
      "1  guitar_acoustic              637\n",
      "2            piano              721\n",
      "3          trumpet              577\n",
      "4           violin              580\n"
     ]
    },
    {
     "data": {
      "text/plain": [
       "CompletedProcess(args=['start', 'C:\\\\Users\\\\user\\\\Desktop\\\\capstone\\\\irmasdataset\\\\violin\\\\044__[vio][nod][cla]2186__3.wav'], returncode=0)"
      ]
     },
     "execution_count": 4,
     "metadata": {},
     "output_type": "execute_result"
    }
   ],
   "source": [
    "import os\n",
    "import glob\n",
    "import pandas as pd\n",
    "import random\n",
    "import subprocess\n",
    "\n",
    "# Replace 'folder_path' with the actual path to your parent folder containing the subfolders.\n",
    "folder_path = 'C:\\\\Users\\\\user\\\\Desktop\\\\capstone\\\\irmasdataset'\n",
    "\n",
    "# Your code for renaming the subfolders and counting the audio files (keep this code separate)\n",
    "\n",
    "# ...\n",
    "\n",
    "# Create a list of specific subfolders you want to include in the DataFrame\n",
    "specific_subfolders = ['flute', 'guitar_acoustic', 'piano', 'trumpet', 'violin']\n",
    "\n",
    "# Create a list to store the DataFrame rows\n",
    "data = []\n",
    "\n",
    "# Loop through the specific subfolders and count the number of audio files in each one\n",
    "for subfolder in specific_subfolders:\n",
    "    subfolder_path = os.path.join(folder_path, subfolder)\n",
    "    audio_files = glob.glob(os.path.join(subfolder_path, '*.wav'))\n",
    "    data.append({'Instrument': subfolder, 'Num_Audio_Files': len(audio_files)})\n",
    "\n",
    "# Create the DataFrame\n",
    "df = pd.DataFrame(data)\n",
    "\n",
    "# Display the DataFrame\n",
    "print(df)\n",
    "\n",
    "# Select a random subfolder\n",
    "random_subfolder = random.choice(specific_subfolders)\n",
    "\n",
    "# Get the path to the random subfolder\n",
    "random_subfolder_path = os.path.join(folder_path, random_subfolder)\n",
    "\n",
    "# Get a list of all audio files in the random subfolder\n",
    "audio_files_in_random_subfolder = glob.glob(os.path.join(random_subfolder_path, '*.wav'))\n",
    "\n",
    "# Select a random audio file from the list\n",
    "random_audio_file = random.choice(audio_files_in_random_subfolder)\n",
    "\n",
    "# Use subprocess to call the system's default audio player to play the selected random audio file\n",
    "subprocess.run(['start', random_audio_file], shell=True)\n"
   ]
  },
  {
   "cell_type": "code",
   "execution_count": 5,
   "id": "a0caf801",
   "metadata": {},
   "outputs": [
    {
     "data": {
      "text/html": [
       "<div>\n",
       "<style scoped>\n",
       "    .dataframe tbody tr th:only-of-type {\n",
       "        vertical-align: middle;\n",
       "    }\n",
       "\n",
       "    .dataframe tbody tr th {\n",
       "        vertical-align: top;\n",
       "    }\n",
       "\n",
       "    .dataframe thead th {\n",
       "        text-align: right;\n",
       "    }\n",
       "</style>\n",
       "<table border=\"1\" class=\"dataframe\">\n",
       "  <thead>\n",
       "    <tr style=\"text-align: right;\">\n",
       "      <th></th>\n",
       "      <th>Instrument</th>\n",
       "      <th>Num_Audio_Files</th>\n",
       "    </tr>\n",
       "  </thead>\n",
       "  <tbody>\n",
       "    <tr>\n",
       "      <th>0</th>\n",
       "      <td>flute</td>\n",
       "      <td>451</td>\n",
       "    </tr>\n",
       "    <tr>\n",
       "      <th>1</th>\n",
       "      <td>guitar_acoustic</td>\n",
       "      <td>637</td>\n",
       "    </tr>\n",
       "    <tr>\n",
       "      <th>2</th>\n",
       "      <td>piano</td>\n",
       "      <td>721</td>\n",
       "    </tr>\n",
       "    <tr>\n",
       "      <th>3</th>\n",
       "      <td>trumpet</td>\n",
       "      <td>577</td>\n",
       "    </tr>\n",
       "    <tr>\n",
       "      <th>4</th>\n",
       "      <td>violin</td>\n",
       "      <td>580</td>\n",
       "    </tr>\n",
       "  </tbody>\n",
       "</table>\n",
       "</div>"
      ],
      "text/plain": [
       "        Instrument  Num_Audio_Files\n",
       "0            flute              451\n",
       "1  guitar_acoustic              637\n",
       "2            piano              721\n",
       "3          trumpet              577\n",
       "4           violin              580"
      ]
     },
     "execution_count": 5,
     "metadata": {},
     "output_type": "execute_result"
    }
   ],
   "source": [
    "df.head()"
   ]
  },
  {
   "cell_type": "code",
   "execution_count": null,
   "id": "8f732854",
   "metadata": {},
   "outputs": [],
   "source": []
  },
  {
   "cell_type": "code",
   "execution_count": null,
   "id": "dee6cc08",
   "metadata": {},
   "outputs": [],
   "source": []
  },
  {
   "cell_type": "code",
   "execution_count": null,
   "id": "50c5575f",
   "metadata": {},
   "outputs": [],
   "source": []
  }
 ],
 "metadata": {
  "kernelspec": {
   "display_name": "Python 3 (ipykernel)",
   "language": "python",
   "name": "python3"
  },
  "language_info": {
   "codemirror_mode": {
    "name": "ipython",
    "version": 3
   },
   "file_extension": ".py",
   "mimetype": "text/x-python",
   "name": "python",
   "nbconvert_exporter": "python",
   "pygments_lexer": "ipython3",
   "version": "3.9.12"
  },
  "varInspector": {
   "cols": {
    "lenName": 16,
    "lenType": 16,
    "lenVar": 40
   },
   "kernels_config": {
    "python": {
     "delete_cmd_postfix": "",
     "delete_cmd_prefix": "del ",
     "library": "var_list.py",
     "varRefreshCmd": "print(var_dic_list())"
    },
    "r": {
     "delete_cmd_postfix": ") ",
     "delete_cmd_prefix": "rm(",
     "library": "var_list.r",
     "varRefreshCmd": "cat(var_dic_list()) "
    }
   },
   "types_to_exclude": [
    "module",
    "function",
    "builtin_function_or_method",
    "instance",
    "_Feature"
   ],
   "window_display": false
  }
 },
 "nbformat": 4,
 "nbformat_minor": 5
}
