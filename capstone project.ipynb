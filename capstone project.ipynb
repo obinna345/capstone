{
 "cells": [
  {
   "cell_type": "markdown",
   "id": "b1d910e9",
   "metadata": {},
   "source": [
    "## CAPSTONE PROJECT"
   ]
  },
  {
   "cell_type": "markdown",
   "id": "7089ddcf",
   "metadata": {},
   "source": [
    "#### Using Deep Learning to Classify and Analyse Musical Instruments Based on Spectrograms and Audio Features"
   ]
  },
  {
   "cell_type": "code",
   "execution_count": 1,
   "id": "0249d54c",
   "metadata": {},
   "outputs": [
    {
     "name": "stderr",
     "output_type": "stream",
     "text": [
      "C:\\Users\\user\\anaconda3\\lib\\site-packages\\lazy_loader\\__init__.py:185: RuntimeWarning: subpackages can technically be lazily loaded, but it causes the package to be eagerly loaded even if it is already lazily loaded.So, you probably shouldn't use subpackages with this lazy feature.\n",
      "  warnings.warn(msg, RuntimeWarning)\n",
      "C:\\Users\\user\\anaconda3\\lib\\site-packages\\lazy_loader\\__init__.py:185: RuntimeWarning: subpackages can technically be lazily loaded, but it causes the package to be eagerly loaded even if it is already lazily loaded.So, you probably shouldn't use subpackages with this lazy feature.\n",
      "  warnings.warn(msg, RuntimeWarning)\n"
     ]
    }
   ],
   "source": [
    "# Importing libraries\n",
    "import os\n",
    "import librosa\n",
    "import librosa.display\n",
    "import matplotlib.pyplot as plt\n",
    "import glob"
   ]
  },
  {
   "cell_type": "code",
   "execution_count": 2,
   "id": "43d95e49",
   "metadata": {},
   "outputs": [],
   "source": [
    "folder_path = 'C:\\\\Users\\\\user\\\\Desktop\\\\capstone\\\\irmasdataset'"
   ]
  },
  {
   "cell_type": "markdown",
   "id": "d7ee5c1d",
   "metadata": {},
   "source": [
    "###### Renaming subfolders and showing number of audio files in each subfolder"
   ]
  },
  {
   "cell_type": "code",
   "execution_count": 3,
   "id": "e8bb36fd",
   "metadata": {},
   "outputs": [
    {
     "name": "stdout",
     "output_type": "stream",
     "text": [
      "cello 388\n",
      "clarinet 505\n",
      "flute 451\n",
      "guitar_acoustic 637\n",
      "guitar_electric 760\n",
      "organ 682\n",
      "piano 721\n",
      "saxophone 626\n",
      "trumpet 577\n",
      "violin 580\n",
      "vocals 778\n"
     ]
    }
   ],
   "source": [
    "\n",
    "# Define the mapping of old names to new names\n",
    "name_mapping = {\n",
    "    \"cel\": \"cello\",\n",
    "    \"cla\": \"clarinet\",\n",
    "    \"flu\": \"flute\",\n",
    "    \"gac\": \"guitar_acoustic\",\n",
    "    \"gel\": \"guitar_electric\",\n",
    "    \"org\": \"organ\",\n",
    "    \"pia\": \"piano\",\n",
    "    \"sax\": \"saxophone\",\n",
    "    \"tru\": \"trumpet\",\n",
    "    \"vio\": \"violin\",\n",
    "    \"voi\": \"vocals\"\n",
    "}\n",
    "\n",
    "# Get a list of all subfolders in the dataset root directory\n",
    "subfolders = [f.name for f in os.scandir(folder_path) if f.is_dir()]\n",
    "\n",
    "# Rename the subfolders according to the name_mapping dictionary and show the number of audio files\n",
    "for subfolder in subfolders:\n",
    "    if subfolder in name_mapping:\n",
    "        # New name for the subfolder\n",
    "        new_name = name_mapping[subfolder]\n",
    "\n",
    "        # Get the path of the current subfolder\n",
    "        subfolder_path = os.path.join(folder_path, subfolder)\n",
    "\n",
    "        # Get the path of the new subfolder name\n",
    "        new_subfolder_path = os.path.join(folder_path, new_name)\n",
    "\n",
    "        # Rename the subfolder\n",
    "        os.rename(subfolder_path, new_subfolder_path)\n",
    "\n",
    "# Get a list of all subfolders (new names) in the dataset root directory\n",
    "subfolders = [f.name for f in os.scandir(folder_path) if f.is_dir()]\n",
    "\n",
    "# Count the number of audio files in each subfolder and display the results\n",
    "for subfolder in subfolders:\n",
    "    subfolder_path = os.path.join(folder_path, subfolder)\n",
    "    # Get a list of audio files in the subfolder (assuming they have a certain file extension, e.g., .wav)\n",
    "    audio_files = glob.glob(os.path.join(subfolder_path, '*.wav'))\n",
    "    # Print the new name of the subfolder and the number of audio files in it\n",
    "    print(f\"{subfolder} {len(audio_files)}\")\n",
    "\n",
    "\n"
   ]
  },
  {
   "cell_type": "code",
   "execution_count": 4,
   "id": "6e621f74",
   "metadata": {},
   "outputs": [
    {
     "name": "stdout",
     "output_type": "stream",
     "text": [
      "        Instrument  Num_Audio_Files\n",
      "0            flute              451\n",
      "1  guitar_acoustic              637\n",
      "2            piano              721\n",
      "3          trumpet              577\n",
      "4           violin              580\n"
     ]
    }
   ],
   "source": [
    "import os\n",
    "import glob\n",
    "import pandas as pd\n",
    "\n",
    "# Your code for renaming the subfolders and counting the audio files (keep this code separate)\n",
    "\n",
    "# ...\n",
    "\n",
    "# Create a list of specific subfolders you want to include in the DataFrame\n",
    "specific_subfolders = [ 'flute','guitar_acoustic', 'piano','trumpet','violin']\n",
    "\n",
    "# Create a list to store the DataFrame rows\n",
    "data = []\n",
    "\n",
    "# Loop through the specific subfolders and count the number of audio files in each one\n",
    "for subfolder in specific_subfolders:\n",
    "    subfolder_path = os.path.join(folder_path, subfolder)\n",
    "    audio_files = glob.glob(os.path.join(subfolder_path, '*.wav'))\n",
    "    data.append({'Instrument': subfolder, 'Num_Audio_Files': len(audio_files)})\n",
    "\n",
    "# Create the DataFrame\n",
    "df = pd.DataFrame(data)\n",
    "\n",
    "# Display the DataFrame\n",
    "print(df)\n"
   ]
  },
  {
   "cell_type": "code",
   "execution_count": 5,
   "id": "6e68c07b",
   "metadata": {},
   "outputs": [
    {
     "name": "stdout",
     "output_type": "stream",
     "text": [
      "Playing random audio from flute: C:\\Users\\user\\Desktop\\capstone\\irmasdataset\\flute\\159__[flu][nod][cou_fol]0412__3.wav\n"
     ]
    }
   ],
   "source": [
    "import os\n",
    "import glob\n",
    "import pandas as pd\n",
    "from IPython.display import Audio\n",
    "import random\n",
    "\n",
    "# Your code for renaming the subfolders and counting the audio files (keep this code separate)\n",
    "\n",
    "# ...\n",
    "\n",
    "# Create a list of specific subfolders you want to include in the DataFrame\n",
    "specific_subfolders = ['violin', 'flute', 'piano']\n",
    "\n",
    "# Select a random subfolder from the list\n",
    "random_subfolder = random.choice(specific_subfolders)\n",
    "\n",
    "# Get the path of the random subfolder\n",
    "random_subfolder_path = os.path.join(folder_path, random_subfolder)\n",
    "\n",
    "# Get a list of audio files in the random subfolder (assuming they have a certain file extension, e.g., .wav)\n",
    "audio_files = glob.glob(os.path.join(random_subfolder_path, '*.wav'))\n",
    "\n",
    "if audio_files:\n",
    "    # Select a random audio file from the list\n",
    "    random_audio_file = random.choice(audio_files)\n",
    "    print(f\"Playing random audio from {random_subfolder}: {random_audio_file}\")\n",
    "\n",
    "    # Play the audio file\n",
    "    Audio(random_audio_file)\n",
    "else:\n",
    "    print(f\"No audio files found in {random_subfolder}.\")\n"
   ]
  },
  {
   "cell_type": "code",
   "execution_count": 6,
   "id": "4292a4b1",
   "metadata": {},
   "outputs": [
    {
     "name": "stdout",
     "output_type": "stream",
     "text": [
      "Playing audio from flute: C:\\Users\\user\\Desktop\\capstone\\irmasdataset\\flute\\008__[flu][nod][cla]0393__1.wav\n"
     ]
    },
    {
     "name": "stderr",
     "output_type": "stream",
     "text": [
      "C:\\Users\\user\\anaconda3\\lib\\site-packages\\pydub\\utils.py:170: RuntimeWarning: Couldn't find ffmpeg or avconv - defaulting to ffmpeg, but may not work\n",
      "  warn(\"Couldn't find ffmpeg or avconv - defaulting to ffmpeg, but may not work\", RuntimeWarning)\n"
     ]
    }
   ],
   "source": [
    "import os\n",
    "import glob\n",
    "import pandas as pd\n",
    "import random\n",
    "from pydub import AudioSegment\n",
    "from IPython.display import Audio\n",
    "\n",
    "# Your code for renaming the subfolders and counting the audio files (keep this code separate)\n",
    "\n",
    "# ...\n",
    "\n",
    "# Create a list of specific subfolders you want to include in the DataFrame\n",
    "specific_subfolders = ['cello', 'flute', 'piano']\n",
    "\n",
    "# Select a specific subfolder from the list\n",
    "selected_subfolder = 'flute'  # Replace this with the subfolder of your choice\n",
    "\n",
    "# Get the path of the selected subfolder\n",
    "selected_subfolder_path = os.path.join(folder_path, selected_subfolder)\n",
    "\n",
    "# Get a list of audio files in the selected subfolder (assuming they have a certain file extension, e.g., .wav)\n",
    "audio_files = glob.glob(os.path.join(selected_subfolder_path, '*.wav'))\n",
    "\n",
    "if audio_files:\n",
    "    # Select a specific audio file from the list (e.g., the first one)\n",
    "    selected_audio_file = audio_files[0]\n",
    "    print(f\"Playing audio from {selected_subfolder}: {selected_audio_file}\")\n",
    "\n",
    "    # Load the audio file using pydub\n",
    "    audio = AudioSegment.from_file(selected_audio_file)\n",
    "\n",
    "    # Convert the audio to raw PCM bytes\n",
    "    audio_raw = audio.raw_data\n",
    "\n",
    "    # Play the audio using IPython.display.Audio\n",
    "    Audio(data=audio_raw, autoplay=True)\n",
    "else:\n",
    "    print(f\"No audio files found in {selected_subfolder}.\")\n",
    "\n"
   ]
  },
  {
   "cell_type": "code",
   "execution_count": 7,
   "id": "5ea9478e",
   "metadata": {},
   "outputs": [
    {
     "name": "stdout",
     "output_type": "stream",
     "text": [
      "Collecting ffmpeg-python\n",
      "  Downloading ffmpeg_python-0.2.0-py3-none-any.whl (25 kB)\n",
      "Requirement already satisfied: future in c:\\users\\user\\anaconda3\\lib\\site-packages (from ffmpeg-python) (0.18.2)\n",
      "Installing collected packages: ffmpeg-python\n",
      "Successfully installed ffmpeg-python-0.2.0\n",
      "Note: you may need to restart the kernel to use updated packages.\n"
     ]
    }
   ],
   "source": [
    "pip install ffmpeg-python\n"
   ]
  },
  {
   "cell_type": "code",
   "execution_count": null,
   "id": "943687bd",
   "metadata": {},
   "outputs": [],
   "source": []
  }
 ],
 "metadata": {
  "kernelspec": {
   "display_name": "Python 3 (ipykernel)",
   "language": "python",
   "name": "python3"
  },
  "language_info": {
   "codemirror_mode": {
    "name": "ipython",
    "version": 3
   },
   "file_extension": ".py",
   "mimetype": "text/x-python",
   "name": "python",
   "nbconvert_exporter": "python",
   "pygments_lexer": "ipython3",
   "version": "3.9.12"
  },
  "varInspector": {
   "cols": {
    "lenName": 16,
    "lenType": 16,
    "lenVar": 40
   },
   "kernels_config": {
    "python": {
     "delete_cmd_postfix": "",
     "delete_cmd_prefix": "del ",
     "library": "var_list.py",
     "varRefreshCmd": "print(var_dic_list())"
    },
    "r": {
     "delete_cmd_postfix": ") ",
     "delete_cmd_prefix": "rm(",
     "library": "var_list.r",
     "varRefreshCmd": "cat(var_dic_list()) "
    }
   },
   "types_to_exclude": [
    "module",
    "function",
    "builtin_function_or_method",
    "instance",
    "_Feature"
   ],
   "window_display": false
  }
 },
 "nbformat": 4,
 "nbformat_minor": 5
}
