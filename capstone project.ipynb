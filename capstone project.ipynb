{
 "cells": [
  {
   "cell_type": "markdown",
   "id": "c0f2d96c",
   "metadata": {},
   "source": [
    "## CAPSTONE PROJECT"
   ]
  },
  {
   "cell_type": "markdown",
   "id": "3eb0001b",
   "metadata": {},
   "source": [
    "#### Using Deep Learning to Classify and Analyse Musical Instruments Based on Spectrograms and Audio Features"
   ]
  },
  {
   "cell_type": "code",
   "execution_count": 1,
   "id": "973f9583",
   "metadata": {},
   "outputs": [
    {
     "name": "stderr",
     "output_type": "stream",
     "text": [
      "C:\\Users\\user\\anaconda3\\lib\\site-packages\\lazy_loader\\__init__.py:185: RuntimeWarning: subpackages can technically be lazily loaded, but it causes the package to be eagerly loaded even if it is already lazily loaded.So, you probably shouldn't use subpackages with this lazy feature.\n",
      "  warnings.warn(msg, RuntimeWarning)\n",
      "C:\\Users\\user\\anaconda3\\lib\\site-packages\\lazy_loader\\__init__.py:185: RuntimeWarning: subpackages can technically be lazily loaded, but it causes the package to be eagerly loaded even if it is already lazily loaded.So, you probably shouldn't use subpackages with this lazy feature.\n",
      "  warnings.warn(msg, RuntimeWarning)\n"
     ]
    }
   ],
   "source": [
    "# Importing libraries\n",
    "import os\n",
    "import librosa\n",
    "import librosa.display\n",
    "import matplotlib.pyplot as plt"
   ]
  },
  {
   "cell_type": "code",
   "execution_count": 2,
   "id": "a3b72f1c",
   "metadata": {},
   "outputs": [
    {
     "name": "stdout",
     "output_type": "stream",
     "text": [
      "cel\n",
      "cla\n",
      "flu\n",
      "gac\n",
      "gel\n",
      "org\n",
      "pia\n",
      "sax\n",
      "tru\n",
      "vio\n",
      "voi\n"
     ]
    }
   ],
   "source": [
    "import os\n",
    "\n",
    "# Replace 'C:\\\\Users\\\\user\\\\Desktop\\\\capstone\\\\irmasdataset' with the actual absolute path to your folder\n",
    "folder_path = 'C:\\\\Users\\\\user\\\\Desktop\\\\capstone\\\\irmasdataset'\n",
    "\n",
    "# Get a list of all subfolders in the dataset root directory\n",
    "subfolders = [f.name for f in os.scandir(folder_path) if f.is_dir()]\n",
    "\n",
    "# Print the names of the subfolders\n",
    "for subfolder in subfolders:\n",
    "    print(subfolder)\n"
   ]
  },
  {
   "cell_type": "code",
   "execution_count": 3,
   "id": "cb7a9363",
   "metadata": {},
   "outputs": [
    {
     "name": "stdout",
     "output_type": "stream",
     "text": [
      "Subfolders have been renamed.\n"
     ]
    }
   ],
   "source": [
    "\n",
    "# Define the mapping of old names to new names\n",
    "name_mapping = {\n",
    "    \"cel\": \"cello\",\n",
    "    \"cla\": \"clarinet\",\n",
    "    \"flu\": \"flute\",\n",
    "    \"gac\": \"guitar_acoustic\",\n",
    "    \"gel\": \"guitar_electric\",\n",
    "    \"org\": \"organ\",\n",
    "    \"pia\": \"piano\",\n",
    "    \"sax\": \"saxophone\",\n",
    "    \"tru\": \"trumpet\",\n",
    "    \"vio\": \"violin\",\n",
    "    \"voi\": \"vocals\"\n",
    "}\n",
    "\n",
    "# Get a list of all subfolders in the dataset root directory\n",
    "subfolders = [f.name for f in os.scandir(folder_path) if f.is_dir()]\n",
    "\n",
    "# Rename the subfolders according to the name_mapping dictionary\n",
    "for subfolder in subfolders:\n",
    "    if subfolder in name_mapping:\n",
    "        # New name for the subfolder\n",
    "        new_name = name_mapping[subfolder]\n",
    "\n",
    "        # Get the path of the current subfolder\n",
    "        subfolder_path = os.path.join(folder_path, subfolder)\n",
    "\n",
    "        # Get the path of the new subfolder name\n",
    "        new_subfolder_path = os.path.join(folder_path, new_name)\n",
    "\n",
    "        # Rename the subfolder\n",
    "        os.rename(subfolder_path, new_subfolder_path)\n",
    "\n",
    "print(\"Subfolders have been renamed.\")\n"
   ]
  },
  {
   "cell_type": "code",
   "execution_count": 4,
   "id": "257d39ee",
   "metadata": {},
   "outputs": [
    {
     "name": "stdout",
     "output_type": "stream",
     "text": [
      "cello\n",
      "clarinet\n",
      "flute\n",
      "guitar_acoustic\n",
      "guitar_electric\n",
      "organ\n",
      "piano\n",
      "saxophone\n",
      "trumpet\n",
      "violin\n",
      "vocals\n"
     ]
    }
   ],
   "source": [
    "# Get a list of all subfolders in the dataset root directory\n",
    "subfolders = [f.name for f in os.scandir(folder_path) if f.is_dir()]\n",
    "\n",
    "# Print the names of the subfolders\n",
    "for subfolder in subfolders:\n",
    "    print(subfolder)\n"
   ]
  },
  {
   "cell_type": "code",
   "execution_count": null,
   "id": "3890b458",
   "metadata": {},
   "outputs": [],
   "source": []
  }
 ],
 "metadata": {
  "kernelspec": {
   "display_name": "Python 3 (ipykernel)",
   "language": "python",
   "name": "python3"
  },
  "language_info": {
   "codemirror_mode": {
    "name": "ipython",
    "version": 3
   },
   "file_extension": ".py",
   "mimetype": "text/x-python",
   "name": "python",
   "nbconvert_exporter": "python",
   "pygments_lexer": "ipython3",
   "version": "3.9.12"
  },
  "varInspector": {
   "cols": {
    "lenName": 16,
    "lenType": 16,
    "lenVar": 40
   },
   "kernels_config": {
    "python": {
     "delete_cmd_postfix": "",
     "delete_cmd_prefix": "del ",
     "library": "var_list.py",
     "varRefreshCmd": "print(var_dic_list())"
    },
    "r": {
     "delete_cmd_postfix": ") ",
     "delete_cmd_prefix": "rm(",
     "library": "var_list.r",
     "varRefreshCmd": "cat(var_dic_list()) "
    }
   },
   "types_to_exclude": [
    "module",
    "function",
    "builtin_function_or_method",
    "instance",
    "_Feature"
   ],
   "window_display": false
  }
 },
 "nbformat": 4,
 "nbformat_minor": 5
}
