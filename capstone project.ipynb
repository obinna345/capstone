{
 "cells": [
  {
   "cell_type": "markdown",
   "id": "3c943384",
   "metadata": {},
   "source": [
    "## CAPSTONE PROJECT"
   ]
  },
  {
   "cell_type": "markdown",
   "id": "44499066",
   "metadata": {},
   "source": [
    "#### Using Deep Learning to Classify and Analyse Musical Instruments Based on Spectrograms and Audio Features"
   ]
  },
  {
   "cell_type": "code",
   "execution_count": 1,
   "id": "21964a9f",
   "metadata": {},
   "outputs": [
    {
     "name": "stderr",
     "output_type": "stream",
     "text": [
      "C:\\Users\\user\\anaconda3\\lib\\site-packages\\lazy_loader\\__init__.py:185: RuntimeWarning: subpackages can technically be lazily loaded, but it causes the package to be eagerly loaded even if it is already lazily loaded.So, you probably shouldn't use subpackages with this lazy feature.\n",
      "  warnings.warn(msg, RuntimeWarning)\n",
      "C:\\Users\\user\\anaconda3\\lib\\site-packages\\lazy_loader\\__init__.py:185: RuntimeWarning: subpackages can technically be lazily loaded, but it causes the package to be eagerly loaded even if it is already lazily loaded.So, you probably shouldn't use subpackages with this lazy feature.\n",
      "  warnings.warn(msg, RuntimeWarning)\n"
     ]
    }
   ],
   "source": [
    "# Importing libraries\n",
    "import os\n",
    "import librosa\n",
    "import librosa.display\n",
    "import matplotlib.pyplot as plt\n",
    "import glob"
   ]
  },
  {
   "cell_type": "code",
   "execution_count": 5,
   "id": "91ca1c8d",
   "metadata": {},
   "outputs": [],
   "source": [
    "folder_path = 'C:\\\\Users\\\\user\\\\Desktop\\\\capstone\\\\irmasdataset'"
   ]
  },
  {
   "cell_type": "markdown",
   "id": "a50524e0",
   "metadata": {},
   "source": [
    "###### Renaming subfolders and showing number of audio files in each subfolder"
   ]
  },
  {
   "cell_type": "code",
   "execution_count": 6,
   "id": "6618f65a",
   "metadata": {},
   "outputs": [
    {
     "name": "stdout",
     "output_type": "stream",
     "text": [
      "cello 388\n",
      "clarinet 505\n",
      "flute 451\n",
      "guitar_acoustic 637\n",
      "guitar_electric 760\n",
      "organ 682\n",
      "piano 721\n",
      "saxophone 626\n",
      "trumpet 577\n",
      "violin 580\n",
      "vocals 778\n"
     ]
    }
   ],
   "source": [
    "#\n",
    "# Define the mapping of old names to new names\n",
    "name_mapping = {\n",
    "    \"cel\": \"cello\",\n",
    "    \"cla\": \"clarinet\",\n",
    "    \"flu\": \"flute\",\n",
    "    \"gac\": \"guitar_acoustic\",\n",
    "    \"gel\": \"guitar_electric\",\n",
    "    \"org\": \"organ\",\n",
    "    \"pia\": \"piano\",\n",
    "    \"sax\": \"saxophone\",\n",
    "    \"tru\": \"trumpet\",\n",
    "    \"vio\": \"violin\",\n",
    "    \"voi\": \"vocals\"\n",
    "}\n",
    "\n",
    "# Get a list of all subfolders in the dataset root directory\n",
    "subfolders = [f.name for f in os.scandir(folder_path) if f.is_dir()]\n",
    "\n",
    "# Rename the subfolders according to the name_mapping dictionary and show the number of audio files\n",
    "for subfolder in subfolders:\n",
    "    if subfolder in name_mapping:\n",
    "        # New name for the subfolder\n",
    "        new_name = name_mapping[subfolder]\n",
    "\n",
    "        # Get the path of the current subfolder\n",
    "        subfolder_path = os.path.join(folder_path, subfolder)\n",
    "\n",
    "        # Get the path of the new subfolder name\n",
    "        new_subfolder_path = os.path.join(folder_path, new_name)\n",
    "\n",
    "        # Rename the subfolder\n",
    "        os.rename(subfolder_path, new_subfolder_path)\n",
    "\n",
    "# Get a list of all subfolders (new names) in the dataset root directory\n",
    "subfolders = [f.name for f in os.scandir(folder_path) if f.is_dir()]\n",
    "\n",
    "# Count the number of audio files in each subfolder and display the results\n",
    "for subfolder in subfolders:\n",
    "    subfolder_path = os.path.join(folder_path, subfolder)\n",
    "    # Get a list of audio files in the subfolder (assuming they have a certain file extension, e.g., .wav)\n",
    "    audio_files = glob.glob(os.path.join(subfolder_path, '*.wav'))\n",
    "    # Print the new name of the subfolder and the number of audio files in it\n",
    "    print(f\"{subfolder} {len(audio_files)}\")\n",
    "\n",
    "\n"
   ]
  },
  {
   "cell_type": "code",
   "execution_count": null,
   "id": "a2c57e52",
   "metadata": {},
   "outputs": [],
   "source": [
    ",nl;"
   ]
  }
 ],
 "metadata": {
  "kernelspec": {
   "display_name": "Python 3 (ipykernel)",
   "language": "python",
   "name": "python3"
  },
  "language_info": {
   "codemirror_mode": {
    "name": "ipython",
    "version": 3
   },
   "file_extension": ".py",
   "mimetype": "text/x-python",
   "name": "python",
   "nbconvert_exporter": "python",
   "pygments_lexer": "ipython3",
   "version": "3.9.12"
  },
  "varInspector": {
   "cols": {
    "lenName": 16,
    "lenType": 16,
    "lenVar": 40
   },
   "kernels_config": {
    "python": {
     "delete_cmd_postfix": "",
     "delete_cmd_prefix": "del ",
     "library": "var_list.py",
     "varRefreshCmd": "print(var_dic_list())"
    },
    "r": {
     "delete_cmd_postfix": ") ",
     "delete_cmd_prefix": "rm(",
     "library": "var_list.r",
     "varRefreshCmd": "cat(var_dic_list()) "
    }
   },
   "types_to_exclude": [
    "module",
    "function",
    "builtin_function_or_method",
    "instance",
    "_Feature"
   ],
   "window_display": false
  }
 },
 "nbformat": 4,
 "nbformat_minor": 5
}
