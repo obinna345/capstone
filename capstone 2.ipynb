{
 "cells": [
  {
   "cell_type": "code",
   "execution_count": 2,
   "id": "bfba39aa",
   "metadata": {},
   "outputs": [],
   "source": [
    "import os\n",
    "import numpy as np\n",
    "import matplotlib.pyplot as plt\n",
    "from PIL import Image\n",
    "import tensorflow as tf\n"
   ]
  },
  {
   "cell_type": "code",
   "execution_count": 3,
   "id": "c2ed27be",
   "metadata": {},
   "outputs": [],
   "source": [
    "folder_path = 'C:\\\\Users\\\\user\\\\Desktop\\\\capstone\\\\spectrogram_images'\n"
   ]
  },
  {
   "cell_type": "code",
   "execution_count": 6,
   "id": "4c875bb3",
   "metadata": {},
   "outputs": [
    {
     "name": "stdout",
     "output_type": "stream",
     "text": [
      "Subfolder 'flute' contains 451 spectrogram images.\n",
      "Subfolder 'guitar_acoustic' contains 637 spectrogram images.\n",
      "Subfolder 'piano' contains 721 spectrogram images.\n",
      "Subfolder 'trumpet' contains 577 spectrogram images.\n",
      "Subfolder 'violin' contains 580 spectrogram images.\n"
     ]
    }
   ],
   "source": [
    "#Checking number of spectrograms in each instrument folder\n",
    "\n",
    "# Initialize dictionaries to store subfolder names and their corresponding spectrogram counts\n",
    "subfolder_dict = {}\n",
    "spectrogram_count_dict = {}\n",
    "\n",
    "# Loop through all items in the directory\n",
    "for item in os.listdir(folder_path):\n",
    "    item_path = os.path.join(folder_path, item)\n",
    "    \n",
    "    # Check if the item is a subfolder\n",
    "    if os.path.isdir(item_path):\n",
    "        subfolder_dict[item] = item_path\n",
    "        \n",
    "        # Count the number of spectrogram images in the subfolder\n",
    "        spectrogram_count = len([f for f in os.listdir(item_path) if os.path.isfile(os.path.join(item_path, f))])\n",
    "        spectrogram_count_dict[item] = spectrogram_count\n",
    "\n",
    "# Print the subfolders and their corresponding spectrogram counts\n",
    "for subfolder, count in spectrogram_count_dict.items():\n",
    "    print(f\"Subfolder '{subfolder}' contains {count} spectrogram images.\")\n"
   ]
  },
  {
   "cell_type": "code",
   "execution_count": 7,
   "id": "a3a850ef",
   "metadata": {},
   "outputs": [
    {
     "name": "stdout",
     "output_type": "stream",
     "text": [
      "Image resizing and renaming completed.\n"
     ]
    }
   ],
   "source": [
    "import os\n",
    "from PIL import Image\n",
    "\n",
    "# Input folder containing the spectrograms\n",
    "input_folder = 'C:\\\\Users\\\\user\\\\Desktop\\\\capstone\\\\spectrogram_images'\n",
    "\n",
    "# Output folder where the resized and renamed spectrograms will be saved\n",
    "output_folder = 'C:\\\\Users\\\\user\\\\Desktop\\\\capstone\\\\resized_spectrograms'\n",
    "\n",
    "# Target size for resizing the images\n",
    "target_size = (244, 244)\n",
    "\n",
    "# Create the output folder if it doesn't exist\n",
    "os.makedirs(output_folder, exist_ok=True)\n",
    "\n",
    "# Loop through all items in the input folder\n",
    "for item in os.listdir(input_folder):\n",
    "    item_path = os.path.join(input_folder, item)\n",
    "    \n",
    "    # Check if the item is a subfolder\n",
    "    if os.path.isdir(item_path):\n",
    "        class_name = item  # Get the subfolder name as the class name\n",
    "        \n",
    "        # Loop through all files in the subfolder\n",
    "        for file_name in os.listdir(item_path):\n",
    "            file_path = os.path.join(item_path, file_name)\n",
    "            \n",
    "            # Open the image using PIL\n",
    "            img = Image.open(file_path)\n",
    "            \n",
    "            # Resize the image to the target size\n",
    "            img_resized = img.resize(target_size, Image.ANTIALIAS)\n",
    "            \n",
    "            # Construct the new filename using the class name and index (optional)\n",
    "            new_file_name = f\"{class_name}_{file_name}\"\n",
    "            \n",
    "            # Save the resized and renamed image to the output folder\n",
    "            img_resized.save(os.path.join(output_folder, new_file_name))\n",
    "\n",
    "print(\"Image resizing and renaming completed.\")\n"
   ]
  },
  {
   "cell_type": "code",
   "execution_count": null,
   "id": "b9b405bd",
   "metadata": {},
   "outputs": [],
   "source": [
    "import os\n",
    "import random\n",
    "import matplotlib.pyplot as plt\n",
    "from PIL import Image\n",
    "\n",
    "# Input folder containing the spectrograms\n",
    "input_folder = 'C:\\\\Users\\\\user\\\\Desktop\\\\capstone\\\\spectrogram_images'\n",
    "\n",
    "# Target size for resizing the images\n",
    "target_size = (244, 244)\n",
    "\n",
    "# Function to resize and save the image with the new filename\n",
    "def resize_and_save_image(file_path, output_folder, class_name):\n",
    "    # Open the image using PIL\n",
    "    img = Image.open(file_path)\n",
    "    \n",
    "    # Resize the image to the target size\n",
    "    img_resized = img.resize(target_size, Image.ANTIALIAS)\n",
    "    \n",
    "    # Construct the new filename using the class name and the original filename\n",
    "    new_file_name = f\"{class_name}_{os.path.basename(file_path)}\"\n",
    "    \n",
    "    # Save the resized image to the output folder\n",
    "    img_resized.save(os.path.join(output_folder, new_file_name))\n",
    "    return new_file_name\n",
    "\n",
    "# Create the output folder if it doesn't exist\n",
    "output_folder = 'C:\\\\Users\\\\user\\\\Desktop\\\\capstone\\\\resized_spectrograms'\n",
    "os.makedirs(output_folder, exist_ok=True)\n",
    "\n",
    "# Dictionary to store subfolder names and their corresponding image paths\n",
    "subfolder_dict = {}\n",
    "\n",
    "# Loop through all items in the input folder\n",
    "for item in os.listdir(input_folder):\n",
    "    item_path = os.path.join(input_folder, item)\n",
    "    \n",
    "    # Check if the item is a subfolder\n",
    "    if os.path.isdir(item_path):\n",
    "        subfolder_dict[item] = []\n",
    "        class_name = item  # Get the subfolder name as the class name\n",
    "        \n",
    "        # Loop through all files in the subfolder\n",
    "        for file_name in os.listdir(item_path):\n",
    "            file_path = os.path.join(item_path, file_name)\n",
    "            subfolder_dict[item].append(file_path)\n",
    "\n",
    "# Function to randomly select 4 images from each subfolder and plot them\n",
    "def plot_random_images(subfolder_dict):\n",
    "    num_images_per_subfolder = 4\n",
    "    \n",
    "    for subfolder, file_paths in subfolder_dict.items():\n",
    "        random_images = random.sample(file_paths, num_images_per_subfolder)\n",
    "        \n",
    "        plt.figure(figsize=(15, 10))\n",
    "        plt.suptitle(f\"Random Spectrograms from Subfolder: {subfolder}\", fontsize=16)\n",
    "        \n",
    "        for i, image_path in enumerate(random_images, 1):\n",
    "            img = Image.open(image_path)\n",
    "            plt.subplot(1, num_images_per_subfolder, i)\n",
    "            plt.imshow(img)\n",
    "            plt.title(f\"Image {i}\")\n",
    "            plt.axis('off')\n",
    "            plt.tight_layout()\n",
    "        \n",
    "        plt.show()\n",
    "\n",
    "# Resize and save the images with new filenames and store the mapping in a dictionary\n",
    "renamed_images_dict = {}\n",
    "for subfolder, file_paths in subfolder_dict.items():\n",
    "    for file_path in file_paths:\n",
    "        new_file_name = resize_and_save_image(file_path, output_folder, subfolder)\n",
    "        renamed_images_dict[new_file_name] = subfolder\n",
    "\n",
    "# Plot 4 random images from each subfolder along with their names\n",
    "plot_random_images(subfolder_dict)\n",
    "\n",
    "# Print the mapping of new filenames and their corresponding subfolder names\n",
    "for new_file_name, subfolder in renamed_images_dict.items():\n",
    "    print(f\"New Filename: {new_file_name}, Subfolder: {subfolder}\")\n"
   ]
  },
  {
   "cell_type": "code",
   "execution_count": null,
   "id": "94b2400e",
   "metadata": {},
   "outputs": [],
   "source": []
  }
 ],
 "metadata": {
  "kernelspec": {
   "display_name": "Python 3 (ipykernel)",
   "language": "python",
   "name": "python3"
  },
  "language_info": {
   "codemirror_mode": {
    "name": "ipython",
    "version": 3
   },
   "file_extension": ".py",
   "mimetype": "text/x-python",
   "name": "python",
   "nbconvert_exporter": "python",
   "pygments_lexer": "ipython3",
   "version": "3.9.12"
  },
  "varInspector": {
   "cols": {
    "lenName": 16,
    "lenType": 16,
    "lenVar": 40
   },
   "kernels_config": {
    "python": {
     "delete_cmd_postfix": "",
     "delete_cmd_prefix": "del ",
     "library": "var_list.py",
     "varRefreshCmd": "print(var_dic_list())"
    },
    "r": {
     "delete_cmd_postfix": ") ",
     "delete_cmd_prefix": "rm(",
     "library": "var_list.r",
     "varRefreshCmd": "cat(var_dic_list()) "
    }
   },
   "types_to_exclude": [
    "module",
    "function",
    "builtin_function_or_method",
    "instance",
    "_Feature"
   ],
   "window_display": false
  }
 },
 "nbformat": 4,
 "nbformat_minor": 5
}
