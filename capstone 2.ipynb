{
 "cells": [
  {
   "cell_type": "code",
   "execution_count": 2,
   "id": "975fbc1a",
   "metadata": {},
   "outputs": [],
   "source": [
    "import os\n",
    "import numpy as np\n",
    "import matplotlib.pyplot as plt\n",
    "from PIL import Image\n",
    "import tensorflow as tf\n"
   ]
  },
  {
   "cell_type": "code",
   "execution_count": 3,
   "id": "a66471ee",
   "metadata": {},
   "outputs": [],
   "source": [
    "folder_path = 'C:\\\\Users\\\\user\\\\Desktop\\\\capstone\\\\spectrogram_images'\n"
   ]
  },
  {
   "cell_type": "code",
   "execution_count": 5,
   "id": "19fe8f2d",
   "metadata": {},
   "outputs": [
    {
     "name": "stdout",
     "output_type": "stream",
     "text": [
      "Subfolder 'flute' contains 451 spectrogram images.\n",
      "Subfolder 'guitar_acoustic' contains 637 spectrogram images.\n",
      "Subfolder 'piano' contains 721 spectrogram images.\n",
      "Subfolder 'trumpet' contains 577 spectrogram images.\n",
      "Subfolder 'violin' contains 580 spectrogram images.\n"
     ]
    }
   ],
   "source": [
    "\n",
    "\n",
    "# Initialize dictionaries to store subfolder names and their corresponding spectrogram counts\n",
    "subfolder_dict = {}\n",
    "spectrogram_count_dict = {}\n",
    "\n",
    "# Loop through all items in the directory\n",
    "for item in os.listdir(folder_path):\n",
    "    item_path = os.path.join(folder_path, item)\n",
    "    \n",
    "    # Check if the item is a subfolder\n",
    "    if os.path.isdir(item_path):\n",
    "        subfolder_dict[item] = item_path\n",
    "        \n",
    "        # Count the number of spectrogram images in the subfolder\n",
    "        spectrogram_count = len([f for f in os.listdir(item_path) if os.path.isfile(os.path.join(item_path, f))])\n",
    "        spectrogram_count_dict[item] = spectrogram_count\n",
    "\n",
    "# Print the subfolders and their corresponding spectrogram counts\n",
    "for subfolder, count in spectrogram_count_dict.items():\n",
    "    print(f\"Subfolder '{subfolder}' contains {count} spectrogram images.\")\n"
   ]
  },
  {
   "cell_type": "code",
   "execution_count": null,
   "id": "5ec07b94",
   "metadata": {},
   "outputs": [],
   "source": []
  }
 ],
 "metadata": {
  "kernelspec": {
   "display_name": "Python 3 (ipykernel)",
   "language": "python",
   "name": "python3"
  },
  "language_info": {
   "codemirror_mode": {
    "name": "ipython",
    "version": 3
   },
   "file_extension": ".py",
   "mimetype": "text/x-python",
   "name": "python",
   "nbconvert_exporter": "python",
   "pygments_lexer": "ipython3",
   "version": "3.9.12"
  },
  "varInspector": {
   "cols": {
    "lenName": 16,
    "lenType": 16,
    "lenVar": 40
   },
   "kernels_config": {
    "python": {
     "delete_cmd_postfix": "",
     "delete_cmd_prefix": "del ",
     "library": "var_list.py",
     "varRefreshCmd": "print(var_dic_list())"
    },
    "r": {
     "delete_cmd_postfix": ") ",
     "delete_cmd_prefix": "rm(",
     "library": "var_list.r",
     "varRefreshCmd": "cat(var_dic_list()) "
    }
   },
   "types_to_exclude": [
    "module",
    "function",
    "builtin_function_or_method",
    "instance",
    "_Feature"
   ],
   "window_display": false
  }
 },
 "nbformat": 4,
 "nbformat_minor": 5
}
